{
 "cells": [
  {
   "cell_type": "code",
   "execution_count": 1,
   "metadata": {},
   "outputs": [],
   "source": [
    "import os\n",
    "import time\n",
    "import torch\n",
    "import math\n",
    "import torchvision\n",
    "from torchvision import transforms as transforms\n",
    "from torch import nn\n",
    "from torch.nn import functional as F\n",
    "from math import cos,pi\n",
    "\n",
    "import matplotlib.pyplot as plt\n",
    "import numpy as np\n",
    "import random\n",
    "\n",
    "torch.cuda.empty_cache()"
   ]
  },
  {
   "cell_type": "code",
   "execution_count": 2,
   "metadata": {},
   "outputs": [
    {
     "data": {
      "text/plain": [
       "True"
      ]
     },
     "execution_count": 2,
     "metadata": {},
     "output_type": "execute_result"
    }
   ],
   "source": [
    "torch.cuda.is_available()"
   ]
  },
  {
   "cell_type": "code",
   "execution_count": 3,
   "metadata": {},
   "outputs": [
    {
     "name": "stdout",
     "output_type": "stream",
     "text": [
      "Files already downloaded and verified\n"
     ]
    }
   ],
   "source": [
    "torch.manual_seed(17)\n",
    "torch.cuda.manual_seed_all(17)\n",
    "\n",
    "aug_train = transforms.Compose([\n",
    "    transforms.RandomCrop(32,padding=4,padding_mode='reflect'),\n",
    "    transforms.RandomHorizontalFlip(), # 水平翻转\n",
    "    transforms.ToTensor(),\n",
    "    transforms.Normalize((0.4244, 0.4146, 0.3836), (0.2539, 0.2491, 0.2420)) # normalization\n",
    "    ])\n",
    "\n",
    "aug_test = transforms.Compose([\n",
    "    transforms.ToTensor(),\n",
    "    transforms.Normalize((0.4244, 0.4146, 0.3836), (0.2539, 0.2491, 0.2420)) # normalization\n",
    "    ])\n",
    "\n",
    "trainingdata = torchvision.datasets.CIFAR10('./CIFAR10',train=True,download=True,transform=aug_train)\n",
    "# testdata = torchvision.datasets.CIFAR10('./CIFAR10',train=False,download=True,transform=transforms.ToTensor())\n",
    "# print(len(trainingdata),len(testdata))"
   ]
  },
  {
   "cell_type": "code",
   "execution_count": 4,
   "metadata": {},
   "outputs": [
    {
     "name": "stdout",
     "output_type": "stream",
     "text": [
      "Files already downloaded and verified\n",
      "Files already downloaded and verified\n"
     ]
    }
   ],
   "source": [
    "def load_data(is_train,aug,batch_size):\n",
    "    dataset = torchvision.datasets.CIFAR10('./CIFAR10',train=is_train,download=True,transform=aug)\n",
    "    dataloader = torch.utils.data.DataLoader(dataset,batch_size=batch_size,shuffle=is_train)\n",
    "    return dataloader\n",
    "\n",
    "batch_size = 256 # param\n",
    "trainDataLoader = load_data(is_train=True,aug=aug_train,batch_size=batch_size)\n",
    "testDataLoader = load_data(is_train=False,aug=aug_test,batch_size=batch_size)"
   ]
  },
  {
   "cell_type": "code",
   "execution_count": 5,
   "metadata": {},
   "outputs": [
    {
     "name": "stderr",
     "output_type": "stream",
     "text": [
      "Clipping input data to the valid range for imshow with RGB data ([0..1] for floats or [0..255] for integers).\n"
     ]
    },
    {
     "name": "stdout",
     "output_type": "stream",
     "text": [
      "torch.Size([3, 32, 32]) 6\n"
     ]
    },
    {
     "data": {
      "image/png": "[encoded data removed]",
      "text/plain": [
       "<Figure size 432x288 with 1 Axes>"
      ]
     },
     "metadata": {
      "needs_background": "light"
     },
     "output_type": "display_data"
    }
   ],
   "source": [
    "classes = ['plane', 'car', 'bird', 'cat', 'deer', 'dog', 'frog', 'horse', 'ship', 'truck']\n",
    "\n",
    "image,label = trainingdata[0]\n",
    "print(image.shape, label)\n",
    "\n",
    "%matplotlib inline\n",
    "plt.imshow(image.numpy().transpose(1,2,0))\n",
    "plt.title(str(classes[label]))\n",
    "plt.show()"
   ]
  },
  {
   "cell_type": "code",
   "execution_count": 6,
   "metadata": {},
   "outputs": [],
   "source": [
    "class BasicBlock(nn.Module):\n",
    "\n",
    "    def __init__(self, in_planes, planes, stride=1):\n",
    "        super(BasicBlock, self).__init__()\n",
    "        self.conv1 = nn.Conv2d(\n",
    "            in_planes, planes, kernel_size=3, stride=stride, padding=1, bias=False)\n",
    "        self.bn1 = nn.BatchNorm2d(planes)\n",
    "        self.conv2 = nn.Conv2d(planes, planes, kernel_size=3,\n",
    "                               stride=1, padding=1, bias=False)\n",
    "        self.bn2 = nn.BatchNorm2d(planes)\n",
    "\n",
    "        self.shortcut = nn.Sequential()\n",
    "        if stride != 1 or in_planes != planes:\n",
    "            self.shortcut = nn.Sequential(\n",
    "                nn.Conv2d(in_planes, planes,\n",
    "                          kernel_size=1, stride=stride, bias=False),\n",
    "                nn.BatchNorm2d(planes)\n",
    "            )\n",
    "\n",
    "    def forward(self, x):\n",
    "        out = F.relu(self.bn1(self.conv1(x)))\n",
    "        out = self.bn2(self.conv2(out))\n",
    "        out += self.shortcut(x)\n",
    "        out = F.relu(out)\n",
    "        return out\n",
    "\n",
    "\n",
    "\n",
    "class ResNet(nn.Module):\n",
    "    def __init__(self, block, num_blocks, num_classes=10):\n",
    "        super(ResNet, self).__init__()\n",
    "        self.in_planes = 64\n",
    "\n",
    "        self.conv1 = nn.Conv2d(3, 64, kernel_size=3,\n",
    "                               stride=1, padding=1, bias=False)\n",
    "        self.bn1 = nn.BatchNorm2d(64)\n",
    "        self.layer1 = self._make_layer(block, 64, num_blocks[0], stride=1)\n",
    "        self.layer2 = self._make_layer(block, 128, num_blocks[1], stride=2)\n",
    "        self.layer3 = self._make_layer(block, 256, num_blocks[2], stride=2)\n",
    "#         self.layer4 = self._make_layer(block, 512, num_blocks[3], stride=2)\n",
    "        self.linear = nn.Linear(1024, num_classes)\n",
    "\n",
    "    def _make_layer(self, block, planes, num_blocks, stride):\n",
    "        strides = [stride] + [1]*(num_blocks-1)\n",
    "        layers = []\n",
    "        for stride in strides:\n",
    "            layers.append(block(self.in_planes, planes, stride))\n",
    "            self.in_planes = planes\n",
    "        return nn.Sequential(*layers)\n",
    "\n",
    "    def forward(self, x):\n",
    "#         print(x.shape)\n",
    "        out = F.relu(self.bn1(self.conv1(x)))\n",
    "#         print(out.shape)\n",
    "        out = self.layer1(out)\n",
    "#         print(out.shape)\n",
    "        out = self.layer2(out)\n",
    "#         print(out.shape)\n",
    "        out = self.layer3(out)\n",
    "#         print(out.shape)\n",
    "#         out = self.layer4(out)\n",
    "        out = F.avg_pool2d(out, 4)\n",
    "#         print(out.shape)\n",
    "        out = out.view(out.size(0), -1)\n",
    "#         print(out.shape)\n",
    "        out = self.linear(out)\n",
    "        return out\n",
    "    \n",
    "    def init_weights(self):\n",
    "        for m in self.modules():\n",
    "            if isinstance(m,nn.Conv2d):\n",
    "                nn.init.kaiming_normal_(m.weight,mode='fan_out',nonlinearity='relu') # weight initialization\n",
    "                if m.bias is not None:\n",
    "                    nn.init.constant_(m.bias,0)\n",
    "            elif isinstance(m,nn.BatchNorm2d):\n",
    "                nn.init.constant_(m.weight,1)\n",
    "                nn.init.constant_(m.bias,0)\n",
    "            elif isinstance(m,nn.Linear):\n",
    "                nn.init.normal_(m.weight,std=1e-3)\n",
    "                if m.bias is not None:\n",
    "                    nn.init.constant_(m.bias,0)\n",
    "\n",
    "def project1_model():\n",
    "#     return ResNet(BasicBlock, [2, 2, 2, 2])\n",
    "    return ResNet(BasicBlock, [3, 3, 3])\n",
    "\n",
    "# model1 = nn.Sequential(project1_model(), nn.AdaptiveAvgPool2d((1,1)), nn.Flatten(), nn.Linear(512, 10)).cuda()\n",
    "model1 = project1_model().cuda()\n",
    "model1.init_weights()"
   ]
  },
  {
   "cell_type": "code",
   "execution_count": 7,
   "metadata": {},
   "outputs": [
    {
     "name": "stdout",
     "output_type": "stream",
     "text": [
      "4335434\n"
     ]
    }
   ],
   "source": [
    "def count_parameters(model):\n",
    "    return sum(p.numel() for p in model.parameters() if p.requires_grad)\n",
    "    # torch.numel() returns number of elements in a tensor\n",
    "\n",
    "print(count_parameters(model1))"
   ]
  },
  {
   "cell_type": "code",
   "execution_count": 8,
   "metadata": {},
   "outputs": [],
   "source": [
    "# X = torch.rand(size=(1, 3, 32, 32)).cuda()\n",
    "# for layer in model1:\n",
    "#   X = layer(X)\n",
    "#   print(layer.__class__.__name__,'output shape:\\t', X.shape)"
   ]
  },
  {
   "cell_type": "code",
   "execution_count": 9,
   "metadata": {},
   "outputs": [],
   "source": [
    "def adjust_learning_rate(optimizer, current_epoch,max_epoch,lr_min=0,lr_max=0.1,warmup=True):\n",
    "    warmup_epoch = 10 if warmup else 0\n",
    "    if current_epoch < warmup_epoch:\n",
    "        lr = lr_max * current_epoch / warmup_epoch\n",
    "    else:\n",
    "        lr = lr_min + (lr_max-lr_min)*(1 + cos(pi * (current_epoch - warmup_epoch) / (max_epoch - warmup_epoch))) / 2\n",
    "    for param_group in optimizer.param_groups:\n",
    "        param_group['lr'] = lr"
   ]
  },
  {
   "cell_type": "code",
   "execution_count": null,
   "metadata": {
    "scrolled": true
   },
   "outputs": [
    {
     "name": "stdout",
     "output_type": "stream",
     "text": [
      "Read model from checkpoint\n",
      "Restart from epoch 15\n",
      "Epoch 16, Train loss 0.2880920483445635, Test loss 0.3473594181239605, Train accuracy 89.91828762755102, Test accuracy 87.822265625, Cost 50.021326303482056 s\n",
      "Epoch 17, Train loss 0.2731901473384731, Test loss 0.33878015391528604, Train accuracy 90.56560905612245, Test accuracy 88.4375, Cost 50.18726062774658 s\n",
      "Epoch 18, Train loss 0.2711651611845104, Test loss 0.3765005797147751, Train accuracy 90.55245535714286, Test accuracy 87.05078125, Cost 50.127893686294556 s\n",
      "Epoch 19, Train loss 0.264671624239002, Test loss 0.3279694326221943, Train accuracy 90.7959980867347, Test accuracy 88.90625, Cost 50.091312646865845 s\n",
      "Epoch 20, Train loss 0.25594418275417113, Test loss 0.379851233959198, Train accuracy 91.23166454081633, Test accuracy 87.40234375, Cost 50.09455847740173 s\n",
      "Model saved in epoch 20\n",
      "Epoch 21, Train loss 0.2544427114177723, Test loss 0.33627460077404975, Train accuracy 91.11686862244898, Test accuracy 88.49609375, Cost 50.03544306755066 s\n",
      "Epoch 22, Train loss 0.2515735782074685, Test loss 0.32695751190185546, Train accuracy 91.41701211734694, Test accuracy 89.345703125, Cost 50.119975090026855 s\n",
      "Epoch 23, Train loss 0.24087397450087022, Test loss 0.3076779007911682, Train accuracy 91.73150510204081, Test accuracy 89.39453125, Cost 50.18028283119202 s\n",
      "Epoch 24, Train loss 0.23547273098814245, Test loss 0.32291303016245365, Train accuracy 91.9188456632653, Test accuracy 89.482421875, Cost 50.14565658569336 s\n",
      "Epoch 25, Train loss 0.23515600768127004, Test loss 0.3308362204581499, Train accuracy 91.90529336734694, Test accuracy 88.935546875, Cost 50.115885972976685 s\n",
      "Model saved in epoch 25\n",
      "Epoch 26, Train loss 0.22821820249819025, Test loss 0.3466005712747574, Train accuracy 92.13408801020408, Test accuracy 88.359375, Cost 50.41485285758972 s\n",
      "Epoch 27, Train loss 0.22791574059092268, Test loss 0.3385948807001114, Train accuracy 92.22616390306122, Test accuracy 88.59375, Cost 50.457817792892456 s\n",
      "Epoch 28, Train loss 0.22513795925342306, Test loss 0.33564913384616374, Train accuracy 92.2787786989796, Test accuracy 88.92578125, Cost 50.396947622299194 s\n",
      "Epoch 29, Train loss 0.21701116939740522, Test loss 0.31564792059361935, Train accuracy 92.48365752551021, Test accuracy 89.599609375, Cost 50.38930416107178 s\n",
      "Epoch 30, Train loss 0.21872139379990344, Test loss 0.323107235878706, Train accuracy 92.43861607142857, Test accuracy 89.31640625, Cost 50.37047624588013 s\n",
      "Model saved in epoch 30\n",
      "Epoch 31, Train loss 0.2256830370775899, Test loss 0.3038276620209217, Train accuracy 92.17992665816327, Test accuracy 89.814453125, Cost 50.37999725341797 s\n",
      "Epoch 32, Train loss 0.21509974153370273, Test loss 0.29954613037407396, Train accuracy 92.5912786989796, Test accuracy 89.912109375, Cost 50.12641358375549 s\n",
      "Epoch 33, Train loss 0.21712158597549613, Test loss 0.28835959285497664, Train accuracy 92.5390625, Test accuracy 90.25390625, Cost 50.04711437225342 s\n",
      "Epoch 34, Train loss 0.2066116502926666, Test loss 0.32886508852243423, Train accuracy 92.79217155612245, Test accuracy 89.23828125, Cost 50.240259885787964 s\n",
      "Epoch 35, Train loss 0.21016077119476942, Test loss 0.30189977027475834, Train accuracy 92.7523118622449, Test accuracy 89.765625, Cost 50.34018087387085 s\n",
      "Model saved in epoch 35\n",
      "Epoch 36, Train loss 0.20585632126550285, Test loss 0.3293303232640028, Train accuracy 92.94084821428571, Test accuracy 89.19921875, Cost 50.25740385055542 s\n",
      "Epoch 37, Train loss 0.20827603959763535, Test loss 0.32622756250202656, Train accuracy 92.8304368622449, Test accuracy 89.560546875, Cost 50.49564027786255 s\n",
      "Epoch 38, Train loss 0.1970598667631952, Test loss 0.2908801205456257, Train accuracy 93.17323022959184, Test accuracy 89.8828125, Cost 50.421327114105225 s\n",
      "Epoch 39, Train loss 0.2026868879186864, Test loss 0.3064400780946016, Train accuracy 92.94084821428571, Test accuracy 90.17578125, Cost 50.55012512207031 s\n",
      "Epoch 40, Train loss 0.2024898224947404, Test loss 0.32228783890604973, Train accuracy 93.00860969387755, Test accuracy 89.19921875, Cost 50.444082498550415 s\n",
      "Model saved in epoch 40\n",
      "Epoch 41, Train loss 0.19915000543150366, Test loss 0.3141887694597244, Train accuracy 93.2047193877551, Test accuracy 89.16015625, Cost 50.4348623752594 s\n",
      "Epoch 42, Train loss 0.1941330720271383, Test loss 0.29034561663866043, Train accuracy 93.33625637755102, Test accuracy 90.37109375, Cost 50.375617265701294 s\n",
      "Epoch 43, Train loss 0.1898008682289902, Test loss 0.2994540363550186, Train accuracy 93.49808673469387, Test accuracy 89.9609375, Cost 50.349403619766235 s\n",
      "Epoch 44, Train loss 0.1953188445875231, Test loss 0.2908537846058607, Train accuracy 93.15967793367346, Test accuracy 90.224609375, Cost 50.411022663116455 s\n",
      "Epoch 45, Train loss 0.18793278951577994, Test loss 0.2908783830702305, Train accuracy 93.5594706632653, Test accuracy 90.33203125, Cost 50.430890798568726 s\n",
      "Model saved in epoch 45\n",
      "Epoch 46, Train loss 0.1925580038556031, Test loss 0.28483019918203356, Train accuracy 93.36216517857143, Test accuracy 90.4296875, Cost 50.54984784126282 s\n",
      "Epoch 47, Train loss 0.19395206283245767, Test loss 0.3025900863111019, Train accuracy 93.27048788265306, Test accuracy 90.048828125, Cost 50.61648869514465 s\n",
      "Epoch 48, Train loss 0.18830694185988028, Test loss 0.3018070053309202, Train accuracy 93.4422831632653, Test accuracy 89.677734375, Cost 50.62107849121094 s\n",
      "Epoch 49, Train loss 0.19037559396606318, Test loss 0.2974497627466917, Train accuracy 93.44108737244898, Test accuracy 90.17578125, Cost 50.61197304725647 s\n",
      "Epoch 50, Train loss 0.18856404170545996, Test loss 0.29712805785238744, Train accuracy 93.53316326530613, Test accuracy 89.697265625, Cost 50.64695072174072 s\n",
      "Model saved in epoch 50\n",
      "Epoch 51, Train loss 0.1815471926666036, Test loss 0.3221307147294283, Train accuracy 93.68742028061224, Test accuracy 90.048828125, Cost 50.675039529800415 s\n",
      "Epoch 52, Train loss 0.18094648143314584, Test loss 0.31865495145320893, Train accuracy 93.67625956632654, Test accuracy 89.66796875, Cost 50.57274150848389 s\n",
      "Epoch 53, Train loss 0.18439609173457233, Test loss 0.3250632621347904, Train accuracy 93.7256855867347, Test accuracy 89.326171875, Cost 50.57497239112854 s\n",
      "Epoch 54, Train loss 0.17991593696785216, Test loss 0.2948695719242096, Train accuracy 93.7157206632653, Test accuracy 90.48828125, Cost 50.50736737251282 s\n",
      "Epoch 55, Train loss 0.1748429456611677, Test loss 0.3210723094642162, Train accuracy 93.97919323979592, Test accuracy 89.35546875, Cost 50.53824591636658 s\n",
      "Model saved in epoch 55\n",
      "Epoch 56, Train loss 0.18075810304405737, Test loss 0.30644542202353475, Train accuracy 93.80939094387755, Test accuracy 89.9609375, Cost 50.42149209976196 s\n",
      "Epoch 57, Train loss 0.17564738207325645, Test loss 0.3016021452844143, Train accuracy 93.85722257653062, Test accuracy 90.263671875, Cost 50.18800234794617 s\n",
      "Epoch 58, Train loss 0.17699131168120977, Test loss 0.28721023350954056, Train accuracy 93.99593431122449, Test accuracy 90.64453125, Cost 50.27104926109314 s\n",
      "Epoch 59, Train loss 0.17345356215171667, Test loss 0.28583941534161567, Train accuracy 94.09757653061224, Test accuracy 90.439453125, Cost 50.424010038375854 s\n",
      "Epoch 60, Train loss 0.1717955050419788, Test loss 0.3275883629918098, Train accuracy 94.02941645408163, Test accuracy 89.326171875, Cost 50.034366607666016 s\n",
      "Model saved in epoch 60\n",
      "Epoch 61, Train loss 0.1800262251374673, Test loss 0.3071475252509117, Train accuracy 93.91183035714286, Test accuracy 90.37109375, Cost 50.15933346748352 s\n",
      "Epoch 62, Train loss 0.17838473663646348, Test loss 0.2793728742748499, Train accuracy 93.87236926020408, Test accuracy 90.517578125, Cost 50.37648320198059 s\n",
      "Epoch 63, Train loss 0.17337246326615616, Test loss 0.30359840504825114, Train accuracy 93.98357780612245, Test accuracy 90.283203125, Cost 50.298429012298584 s\n",
      "Epoch 64, Train loss 0.16778135683615597, Test loss 0.28968258798122404, Train accuracy 94.12627551020408, Test accuracy 90.712890625, Cost 50.526437520980835 s\n",
      "Epoch 65, Train loss 0.1714990314248265, Test loss 0.3255803558975458, Train accuracy 93.97281568877551, Test accuracy 89.86328125, Cost 50.45103359222412 s\n",
      "Model saved in epoch 65\n",
      "Epoch 66, Train loss 0.17389900473003483, Test loss 0.3369917649775743, Train accuracy 94.06608737244898, Test accuracy 89.609375, Cost 50.272172689437866 s\n"
     ]
    },
    {
     "name": "stdout",
     "output_type": "stream",
     "text": [
      "Epoch 67, Train loss 0.17211411638679552, Test loss 0.28747716508805754, Train accuracy 94.03858418367346, Test accuracy 90.263671875, Cost 50.168413162231445 s\n"
     ]
    }
   ],
   "source": [
    "num_epochs = 500 # param\n",
    "epoch_start = 0\n",
    "path = 'resnet_aug_3block_sgd_warmup_consine_batch256_lr01_weight_decay.pt'\n",
    "\n",
    "train_loss_history = []\n",
    "test_loss_history = []\n",
    "train_accuracy_history = []\n",
    "test_accuracy_history = []\n",
    "\n",
    "Loss = torch.nn.CrossEntropyLoss()\n",
    "\n",
    "lr = 0.1\n",
    "lr_min=0.001\n",
    "momentum = 0.9\n",
    "nesterov = True\n",
    "weight_decay = 1e-4\n",
    "optimizer = torch.optim.SGD(model1.parameters(),lr=lr,momentum=momentum,nesterov=nesterov,weight_decay=weight_decay)\n",
    "\n",
    "\n",
    "\n",
    "if os.path.exists(path):\n",
    "    checkpoint = torch.load(path)\n",
    "    print('Read model from checkpoint')\n",
    "    model1.cuda().load_state_dict(checkpoint['model_state_dict'])\n",
    "    optimizer.load_state_dict(checkpoint['optimizer_state_dict'])\n",
    "    epoch_start = checkpoint['epoch']\n",
    "    Loss = checkpoint['Loss']\n",
    "    train_loss_history = checkpoint['train_loss_history']\n",
    "    test_loss_history = checkpoint['test_loss_history']\n",
    "    train_accuracy_history = checkpoint['train_accuracy_history']\n",
    "    test_accuracy_history = checkpoint['test_accuracy_history']\n",
    "    print('Restart from epoch',epoch_start)\n",
    "    \n",
    "\n",
    "for epoch in range(epoch_start+1, num_epochs+1):\n",
    "    timestart = time.time()\n",
    "\n",
    "    train_loss = 0.0\n",
    "    test_loss = 0.0\n",
    "    train_accuracy = 0.0\n",
    "    test_accuracy = 0.0\n",
    "\n",
    "    for i, data in enumerate(trainDataLoader):\n",
    "        images, labels = data\n",
    "        images = images.cuda()\n",
    "        labels = labels.cuda()\n",
    "        optimizer.zero_grad()\n",
    "        predicted_output = model1.cuda()(images)\n",
    "        fit = Loss(predicted_output,labels)\n",
    "        fit.backward()\n",
    "        adjust_learning_rate(optimizer=optimizer,current_epoch=epoch,max_epoch=num_epochs,lr_min=lr_min,lr_max=lr,warmup=True)\n",
    "        optimizer.step()\n",
    "        train_loss += fit.item()\n",
    "        train_accuracy += (torch.eq(torch.max(predicted_output,1)[1],labels).sum()/len(labels)*100).data.cpu().numpy()\n",
    "\n",
    "    for i, data in enumerate(testDataLoader):\n",
    "        with torch.no_grad():\n",
    "            images, labels = data\n",
    "            images = images.cuda()\n",
    "            labels = labels.cuda()\n",
    "            predicted_output = model1.cuda()(images)\n",
    "            fit = Loss(predicted_output,labels)\n",
    "            test_loss += fit.item()\n",
    "            test_accuracy += (torch.eq(torch.max(predicted_output,1)[1],labels).sum()/len(labels)*100).data.cpu().numpy()\n",
    "\n",
    "\n",
    "    train_loss = train_loss/len(trainDataLoader)\n",
    "    test_loss = test_loss/len(testDataLoader)\n",
    "    train_accu = train_accuracy/len(trainDataLoader)\n",
    "    test_accu = test_accuracy/len(testDataLoader)\n",
    "    train_loss_history.append(train_loss)\n",
    "    test_loss_history.append(test_loss)\n",
    "    train_accuracy_history.append(train_accu)\n",
    "    test_accuracy_history.append(test_accu)\n",
    "    print('Epoch %s, Train loss %s, Test loss %s, Train accuracy %s, Test accuracy %s, Cost %s s'%(epoch,\n",
    "                                                                                                   train_loss,test_loss,\n",
    "                                                                                                   train_accu,test_accu,\n",
    "                                                                                                   time.time()-timestart))\n",
    "\n",
    "    if epoch % 5 == 0 and epoch != 0:\n",
    "        torch.save({'epoch':epoch,\n",
    "          'model_state_dict':model1.cuda().state_dict(),\n",
    "          'optimizer_state_dict':optimizer.state_dict(),\n",
    "          'Loss':Loss,\n",
    "          'train_loss_history':train_loss_history,\n",
    "          'test_loss_history':test_loss_history,\n",
    "          'train_accuracy_history':train_accuracy_history,\n",
    "          'test_accuracy_history':test_accuracy_history},path)\n",
    "        print('Model saved in epoch %s'%(epoch))"
   ]
  },
  {
   "cell_type": "code",
   "execution_count": null,
   "metadata": {},
   "outputs": [],
   "source": [
    "plt.figure(figsize=(10,5))\n",
    "plt.subplot(1,2,1)\n",
    "plt.plot(range(num_epochs),train_loss_history,'-',linewidth=3,label='Train error')\n",
    "plt.plot(range(num_epochs),test_loss_history,'-',linewidth=3,label='Test error')\n",
    "plt.xlabel('epoch')\n",
    "plt.ylabel('loss')\n",
    "plt.grid(True)\n",
    "plt.legend()\n",
    "\n",
    "plt.subplot(1,2,2)\n",
    "plt.plot(range(num_epochs),train_accuracy_history,'-',linewidth=3,label='Train accuracy')\n",
    "plt.plot(range(num_epochs),test_accuracy_history,'-',linewidth=3,label='Test accuracy')\n",
    "plt.xlabel('epoch')\n",
    "plt.ylabel('accuracy')\n",
    "plt.grid(True)\n",
    "plt.legend()"
   ]
  },
  {
   "cell_type": "code",
   "execution_count": null,
   "metadata": {},
   "outputs": [],
   "source": [
    "print('Accuracy:',sum(test_accuracy_history[-5:])/5,100-sum(test_accuracy_history[-5:])/5)"
   ]
  },
  {
   "cell_type": "code",
   "execution_count": null,
   "metadata": {},
   "outputs": [],
   "source": []
  }
 ],
 "metadata": {
  "kernelspec": {
   "display_name": "venv_resnet",
   "language": "python",
   "name": "venv"
  },
  "language_info": {
   "codemirror_mode": {
    "name": "ipython",
    "version": 3
   },
   "file_extension": ".py",
   "mimetype": "text/x-python",
   "name": "python",
   "nbconvert_exporter": "python",
   "pygments_lexer": "ipython3",
   "version": "3.8.3"
  }
 },
 "nbformat": 4,
 "nbformat_minor": 4
}
